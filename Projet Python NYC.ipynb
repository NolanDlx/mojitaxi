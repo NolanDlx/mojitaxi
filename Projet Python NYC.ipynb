{
 "cells": [
  {
   "cell_type": "code",
   "execution_count": 1,
   "metadata": {
    "colab": {
     "base_uri": "https://localhost:8080/"
    },
    "executionInfo": {
     "elapsed": 5059,
     "status": "ok",
     "timestamp": 1685706788405,
     "user": {
      "displayName": "Rémy Verduyn",
      "userId": "06014348928862981840"
     },
     "user_tz": -120
    },
    "id": "DZCkdLT_8-XC",
    "outputId": "75d802a0-3051-4649-b068-19da01723876"
   },
   "outputs": [
    {
     "name": "stdout",
     "output_type": "stream",
     "text": [
      "Defaulting to user installation because normal site-packages is not writeable\n",
      "Requirement already satisfied: pyarrow in c:\\users\\280561\\appdata\\roaming\\python\\python38\\site-packages (12.0.0)\n",
      "Requirement already satisfied: numpy>=1.16.6 in c:\\users\\280561\\appdata\\roaming\\python\\python38\\site-packages (from pyarrow) (1.23.5)\n"
     ]
    }
   ],
   "source": [
    "#On installe pyarrow\n",
    "!pip install pyarrow"
   ]
  },
  {
   "cell_type": "code",
   "execution_count": 24,
   "metadata": {},
   "outputs": [],
   "source": [
    "#On importe\n",
    "import pandas as pd\n",
    "import seaborn as sns\n",
    "import matplotlib as plt"
   ]
  },
  {
   "cell_type": "code",
   "execution_count": 25,
   "metadata": {
    "colab": {
     "base_uri": "https://localhost:8080/",
     "height": 354
    },
    "executionInfo": {
     "elapsed": 7,
     "status": "error",
     "timestamp": 1685706790077,
     "user": {
      "displayName": "Rémy Verduyn",
      "userId": "06014348928862981840"
     },
     "user_tz": -120
    },
    "id": "TWm7ZVit8-XG",
    "outputId": "2332a4dd-c9f2-4ab0-958e-d5788700bd51",
    "scrolled": true
   },
   "outputs": [],
   "source": [
    "# Création du data frame\n",
    "taxi = pd.read_parquet('yellow_tripdata_2023-03.parquet', engine='pyarrow')\n",
    "engine='pyarrow'"
   ]
  },
  {
   "cell_type": "code",
   "execution_count": 26,
   "metadata": {
    "id": "qAAyXyNz8-XI",
    "outputId": "5685b860-b79b-4ecb-a55e-30444facb905"
   },
   "outputs": [
    {
     "data": {
      "text/html": [
       "<div>\n",
       "<style scoped>\n",
       "    .dataframe tbody tr th:only-of-type {\n",
       "        vertical-align: middle;\n",
       "    }\n",
       "\n",
       "    .dataframe tbody tr th {\n",
       "        vertical-align: top;\n",
       "    }\n",
       "\n",
       "    .dataframe thead th {\n",
       "        text-align: right;\n",
       "    }\n",
       "</style>\n",
       "<table border=\"1\" class=\"dataframe\">\n",
       "  <thead>\n",
       "    <tr style=\"text-align: right;\">\n",
       "      <th></th>\n",
       "      <th>VendorID</th>\n",
       "      <th>tpep_pickup_datetime</th>\n",
       "      <th>tpep_dropoff_datetime</th>\n",
       "      <th>passenger_count</th>\n",
       "      <th>trip_distance</th>\n",
       "      <th>RatecodeID</th>\n",
       "      <th>store_and_fwd_flag</th>\n",
       "      <th>PULocationID</th>\n",
       "      <th>DOLocationID</th>\n",
       "      <th>payment_type</th>\n",
       "      <th>fare_amount</th>\n",
       "      <th>extra</th>\n",
       "      <th>mta_tax</th>\n",
       "      <th>tip_amount</th>\n",
       "      <th>tolls_amount</th>\n",
       "      <th>improvement_surcharge</th>\n",
       "      <th>total_amount</th>\n",
       "      <th>congestion_surcharge</th>\n",
       "      <th>Airport_fee</th>\n",
       "    </tr>\n",
       "  </thead>\n",
       "  <tbody>\n",
       "    <tr>\n",
       "      <th>0</th>\n",
       "      <td>2</td>\n",
       "      <td>2023-03-01 00:06:43</td>\n",
       "      <td>2023-03-01 00:16:43</td>\n",
       "      <td>1.0</td>\n",
       "      <td>0.00</td>\n",
       "      <td>1.0</td>\n",
       "      <td>N</td>\n",
       "      <td>238</td>\n",
       "      <td>42</td>\n",
       "      <td>2</td>\n",
       "      <td>8.6</td>\n",
       "      <td>1.0</td>\n",
       "      <td>0.5</td>\n",
       "      <td>0.00</td>\n",
       "      <td>0.0</td>\n",
       "      <td>1.0</td>\n",
       "      <td>11.10</td>\n",
       "      <td>0.0</td>\n",
       "      <td>0.00</td>\n",
       "    </tr>\n",
       "    <tr>\n",
       "      <th>1</th>\n",
       "      <td>2</td>\n",
       "      <td>2023-03-01 00:08:25</td>\n",
       "      <td>2023-03-01 00:39:30</td>\n",
       "      <td>2.0</td>\n",
       "      <td>12.40</td>\n",
       "      <td>1.0</td>\n",
       "      <td>N</td>\n",
       "      <td>138</td>\n",
       "      <td>231</td>\n",
       "      <td>1</td>\n",
       "      <td>52.7</td>\n",
       "      <td>6.0</td>\n",
       "      <td>0.5</td>\n",
       "      <td>12.54</td>\n",
       "      <td>0.0</td>\n",
       "      <td>1.0</td>\n",
       "      <td>76.49</td>\n",
       "      <td>2.5</td>\n",
       "      <td>1.25</td>\n",
       "    </tr>\n",
       "    <tr>\n",
       "      <th>2</th>\n",
       "      <td>1</td>\n",
       "      <td>2023-03-01 00:15:04</td>\n",
       "      <td>2023-03-01 00:29:26</td>\n",
       "      <td>0.0</td>\n",
       "      <td>3.30</td>\n",
       "      <td>1.0</td>\n",
       "      <td>N</td>\n",
       "      <td>140</td>\n",
       "      <td>186</td>\n",
       "      <td>1</td>\n",
       "      <td>18.4</td>\n",
       "      <td>3.5</td>\n",
       "      <td>0.5</td>\n",
       "      <td>4.65</td>\n",
       "      <td>0.0</td>\n",
       "      <td>1.0</td>\n",
       "      <td>28.05</td>\n",
       "      <td>2.5</td>\n",
       "      <td>0.00</td>\n",
       "    </tr>\n",
       "    <tr>\n",
       "      <th>3</th>\n",
       "      <td>1</td>\n",
       "      <td>2023-03-01 00:49:37</td>\n",
       "      <td>2023-03-01 01:01:05</td>\n",
       "      <td>1.0</td>\n",
       "      <td>2.90</td>\n",
       "      <td>1.0</td>\n",
       "      <td>N</td>\n",
       "      <td>140</td>\n",
       "      <td>43</td>\n",
       "      <td>1</td>\n",
       "      <td>15.6</td>\n",
       "      <td>3.5</td>\n",
       "      <td>0.5</td>\n",
       "      <td>4.10</td>\n",
       "      <td>0.0</td>\n",
       "      <td>1.0</td>\n",
       "      <td>24.70</td>\n",
       "      <td>2.5</td>\n",
       "      <td>0.00</td>\n",
       "    </tr>\n",
       "    <tr>\n",
       "      <th>4</th>\n",
       "      <td>2</td>\n",
       "      <td>2023-03-01 00:08:04</td>\n",
       "      <td>2023-03-01 00:11:06</td>\n",
       "      <td>1.0</td>\n",
       "      <td>1.23</td>\n",
       "      <td>1.0</td>\n",
       "      <td>N</td>\n",
       "      <td>79</td>\n",
       "      <td>137</td>\n",
       "      <td>1</td>\n",
       "      <td>7.2</td>\n",
       "      <td>1.0</td>\n",
       "      <td>0.5</td>\n",
       "      <td>2.44</td>\n",
       "      <td>0.0</td>\n",
       "      <td>1.0</td>\n",
       "      <td>14.64</td>\n",
       "      <td>2.5</td>\n",
       "      <td>0.00</td>\n",
       "    </tr>\n",
       "  </tbody>\n",
       "</table>\n",
       "</div>"
      ],
      "text/plain": [
       "   VendorID tpep_pickup_datetime tpep_dropoff_datetime  passenger_count  \\\n",
       "0         2  2023-03-01 00:06:43   2023-03-01 00:16:43              1.0   \n",
       "1         2  2023-03-01 00:08:25   2023-03-01 00:39:30              2.0   \n",
       "2         1  2023-03-01 00:15:04   2023-03-01 00:29:26              0.0   \n",
       "3         1  2023-03-01 00:49:37   2023-03-01 01:01:05              1.0   \n",
       "4         2  2023-03-01 00:08:04   2023-03-01 00:11:06              1.0   \n",
       "\n",
       "   trip_distance  RatecodeID store_and_fwd_flag  PULocationID  DOLocationID  \\\n",
       "0           0.00         1.0                  N           238            42   \n",
       "1          12.40         1.0                  N           138           231   \n",
       "2           3.30         1.0                  N           140           186   \n",
       "3           2.90         1.0                  N           140            43   \n",
       "4           1.23         1.0                  N            79           137   \n",
       "\n",
       "   payment_type  fare_amount  extra  mta_tax  tip_amount  tolls_amount  \\\n",
       "0             2          8.6    1.0      0.5        0.00           0.0   \n",
       "1             1         52.7    6.0      0.5       12.54           0.0   \n",
       "2             1         18.4    3.5      0.5        4.65           0.0   \n",
       "3             1         15.6    3.5      0.5        4.10           0.0   \n",
       "4             1          7.2    1.0      0.5        2.44           0.0   \n",
       "\n",
       "   improvement_surcharge  total_amount  congestion_surcharge  Airport_fee  \n",
       "0                    1.0         11.10                   0.0         0.00  \n",
       "1                    1.0         76.49                   2.5         1.25  \n",
       "2                    1.0         28.05                   2.5         0.00  \n",
       "3                    1.0         24.70                   2.5         0.00  \n",
       "4                    1.0         14.64                   2.5         0.00  "
      ]
     },
     "execution_count": 26,
     "metadata": {},
     "output_type": "execute_result"
    }
   ],
   "source": [
    "# On regarde si le fichier est correctement charger et lisible\n",
    "taxi.head()"
   ]
  },
  {
   "cell_type": "code",
   "execution_count": 27,
   "metadata": {
    "id": "fsGdZXMh8-XJ",
    "outputId": "1a47dd60-ed8f-469b-c655-a986b51efcf3"
   },
   "outputs": [
    {
     "data": {
      "text/plain": [
       "(3403766, 19)"
      ]
     },
     "execution_count": 27,
     "metadata": {},
     "output_type": "execute_result"
    }
   ],
   "source": [
    "# On regarde le nombre de valeurs et de variables\n",
    "taxi.shape"
   ]
  },
  {
   "cell_type": "code",
   "execution_count": 28,
   "metadata": {},
   "outputs": [
    {
     "name": "stdout",
     "output_type": "stream",
     "text": [
      "<class 'pandas.core.frame.DataFrame'>\n",
      "RangeIndex: 3403766 entries, 0 to 3403765\n",
      "Data columns (total 19 columns):\n",
      " #   Column                 Dtype         \n",
      "---  ------                 -----         \n",
      " 0   VendorID               int32         \n",
      " 1   tpep_pickup_datetime   datetime64[ns]\n",
      " 2   tpep_dropoff_datetime  datetime64[ns]\n",
      " 3   passenger_count        float64       \n",
      " 4   trip_distance          float64       \n",
      " 5   RatecodeID             float64       \n",
      " 6   store_and_fwd_flag     object        \n",
      " 7   PULocationID           int32         \n",
      " 8   DOLocationID           int32         \n",
      " 9   payment_type           int64         \n",
      " 10  fare_amount            float64       \n",
      " 11  extra                  float64       \n",
      " 12  mta_tax                float64       \n",
      " 13  tip_amount             float64       \n",
      " 14  tolls_amount           float64       \n",
      " 15  improvement_surcharge  float64       \n",
      " 16  total_amount           float64       \n",
      " 17  congestion_surcharge   float64       \n",
      " 18  Airport_fee            float64       \n",
      "dtypes: datetime64[ns](2), float64(12), int32(3), int64(1), object(1)\n",
      "memory usage: 454.5+ MB\n"
     ]
    }
   ],
   "source": [
    "#On regarde les variables\n",
    "taxi.info()"
   ]
  },
  {
   "cell_type": "code",
   "execution_count": 29,
   "metadata": {},
   "outputs": [],
   "source": [
    "#On extrait chaque parti de date du tpep_pickup_datetime\n",
    "taxi.insert(0, 'year', taxi['tpep_pickup_datetime'].dt.year)\n",
    "taxi.insert(1, 'month', taxi['tpep_pickup_datetime'].dt.month)\n",
    "taxi.insert(2, 'day', taxi['tpep_pickup_datetime'].dt.day)\n",
    "taxi.insert(3, 'hour', taxi['tpep_pickup_datetime'].dt.hour)\n",
    "taxi.insert(4, 'trip_duration', (taxi['tpep_dropoff_datetime'] - taxi['tpep_pickup_datetime']).dt.total_seconds() / 3600)"
   ]
  },
  {
   "cell_type": "code",
   "execution_count": 30,
   "metadata": {},
   "outputs": [
    {
     "data": {
      "text/plain": [
       "<AxesSubplot:xlabel='total_amount'>"
      ]
     },
     "execution_count": 30,
     "metadata": {},
     "output_type": "execute_result"
    },
    {
     "data": {
      "image/png": "[encoded data removed]",
      "text/plain": [
       "<Figure size 432x288 with 1 Axes>"
      ]
     },
     "metadata": {
      "needs_background": "light"
     },
     "output_type": "display_data"
    }
   ],
   "source": [
    "#On regarde les valeurs de total_amount\n",
    "sns.boxplot(x=taxi['total_amount'])"
   ]
  },
  {
   "cell_type": "code",
   "execution_count": 31,
   "metadata": {},
   "outputs": [],
   "source": [
    "#On supprime les valeurs aberrantes \n",
    "taxi = taxi[taxi['total_amount'] <= 2000]\n",
    "taxi = taxi[taxi['total_amount'] > 0]"
   ]
  },
  {
   "cell_type": "code",
   "execution_count": 32,
   "metadata": {},
   "outputs": [
    {
     "data": {
      "text/plain": [
       "<AxesSubplot:xlabel='total_amount'>"
      ]
     },
     "execution_count": 32,
     "metadata": {},
     "output_type": "execute_result"
    },
    {
     "data": {
      "image/png": "[encoded data removed]",
      "text/plain": [
       "<Figure size 432x288 with 1 Axes>"
      ]
     },
     "metadata": {
      "needs_background": "light"
     },
     "output_type": "display_data"
    }
   ],
   "source": [
    "#On regarde les valeurs de total_amount après modif\n",
    "sns.boxplot(x=taxi['total_amount'])"
   ]
  },
  {
   "cell_type": "code",
   "execution_count": 33,
   "metadata": {},
   "outputs": [
    {
     "data": {
      "text/plain": [
       "<AxesSubplot:xlabel='trip_duration'>"
      ]
     },
     "execution_count": 33,
     "metadata": {},
     "output_type": "execute_result"
    },
    {
     "data": {
      "image/png": "[encoded data removed]",
      "text/plain": [
       "<Figure size 432x288 with 1 Axes>"
      ]
     },
     "metadata": {
      "needs_background": "light"
     },
     "output_type": "display_data"
    }
   ],
   "source": [
    "#On regarde les valeurs de trip_duration\n",
    "sns.boxplot(x=taxi['trip_duration'])"
   ]
  },
  {
   "cell_type": "code",
   "execution_count": 34,
   "metadata": {},
   "outputs": [],
   "source": [
    "#On supprime les valeurs aberrantes \n",
    "taxi = taxi[taxi['trip_duration'] <= 6]\n",
    "taxi = taxi[taxi['trip_duration'] > 0]"
   ]
  },
  {
   "cell_type": "code",
   "execution_count": 35,
   "metadata": {},
   "outputs": [
    {
     "data": {
      "text/plain": [
       "<AxesSubplot:xlabel='trip_duration'>"
      ]
     },
     "execution_count": 35,
     "metadata": {},
     "output_type": "execute_result"
    },
    {
     "data": {
      "image/png": "[encoded data removed]",
      "text/plain": [
       "<Figure size 432x288 with 1 Axes>"
      ]
     },
     "metadata": {
      "needs_background": "light"
     },
     "output_type": "display_data"
    }
   ],
   "source": [
    "#On regarde les valeurs de trip_duration après modif\n",
    "sns.boxplot(x=taxi['trip_duration'])"
   ]
  },
  {
   "cell_type": "code",
   "execution_count": 36,
   "metadata": {},
   "outputs": [
    {
     "data": {
      "text/plain": [
       "<AxesSubplot:xlabel='passenger_count'>"
      ]
     },
     "execution_count": 36,
     "metadata": {},
     "output_type": "execute_result"
    },
    {
     "data": {
      "image/png": "[encoded data removed]",
      "text/plain": [
       "<Figure size 432x288 with 1 Axes>"
      ]
     },
     "metadata": {
      "needs_background": "light"
     },
     "output_type": "display_data"
    }
   ],
   "source": [
    "#On regarde les valeurs de passenger_count \n",
    "sns.boxplot(x=taxi['passenger_count'])"
   ]
  },
  {
   "cell_type": "code",
   "execution_count": 37,
   "metadata": {},
   "outputs": [],
   "source": [
    "#On supprime les valeurs aberrantes\n",
    "taxi = taxi[taxi['passenger_count'] <= 4]\n",
    "taxi = taxi[taxi['passenger_count'] > 0]"
   ]
  },
  {
   "cell_type": "code",
   "execution_count": 38,
   "metadata": {},
   "outputs": [
    {
     "data": {
      "text/plain": [
       "<AxesSubplot:xlabel='passenger_count'>"
      ]
     },
     "execution_count": 38,
     "metadata": {},
     "output_type": "execute_result"
    },
    {
     "data": {
      "image/png": "[encoded data removed]",
      "text/plain": [
       "<Figure size 432x288 with 1 Axes>"
      ]
     },
     "metadata": {
      "needs_background": "light"
     },
     "output_type": "display_data"
    }
   ],
   "source": [
    "#On regarde les valeurs de passenger_count  après modif\n",
    "sns.boxplot(x=taxi['passenger_count'])"
   ]
  },
  {
   "cell_type": "code",
   "execution_count": 39,
   "metadata": {},
   "outputs": [
    {
     "data": {
      "text/plain": [
       "<AxesSubplot:xlabel='trip_distance'>"
      ]
     },
     "execution_count": 39,
     "metadata": {},
     "output_type": "execute_result"
    },
    {
     "data": {
      "image/png": "[encoded data removed]",
      "text/plain": [
       "<Figure size 432x288 with 1 Axes>"
      ]
     },
     "metadata": {
      "needs_background": "light"
     },
     "output_type": "display_data"
    }
   ],
   "source": [
    "#On regarde les valeurs de trip_distance \n",
    "sns.boxplot(x=taxi['trip_distance'])"
   ]
  },
  {
   "cell_type": "code",
   "execution_count": 40,
   "metadata": {},
   "outputs": [],
   "source": [
    "#On supprime les valeurs aberrantes\n",
    "taxi = taxi[taxi['trip_distance'] <= 500]\n",
    "taxi = taxi[taxi['trip_distance'] > 0]"
   ]
  },
  {
   "cell_type": "code",
   "execution_count": 41,
   "metadata": {},
   "outputs": [
    {
     "data": {
      "text/plain": [
       "<AxesSubplot:xlabel='trip_distance'>"
      ]
     },
     "execution_count": 41,
     "metadata": {},
     "output_type": "execute_result"
    },
    {
     "data": {
      "image/png": "[encoded data removed]",
      "text/plain": [
       "<Figure size 432x288 with 1 Axes>"
      ]
     },
     "metadata": {
      "needs_background": "light"
     },
     "output_type": "display_data"
    }
   ],
   "source": [
    "#On regarde les valeurs de trip_dsitance après modif\n",
    "sns.boxplot(x=taxi['trip_distance'])"
   ]
  },
  {
   "cell_type": "code",
   "execution_count": 42,
   "metadata": {},
   "outputs": [],
   "source": [
    "# On supprimes les variables jugées inutiles pour la prédiction et demandés par le client\n",
    "taxi = taxi.drop(['tpep_pickup_datetime','tpep_dropoff_datetime','store_and_fwd_flag','fare_amount', 'extra', 'mta_tax', 'tip_amount', 'tolls_amount', 'improvement_surcharge', 'congestion_surcharge', 'Airport_fee'],axis=1)"
   ]
  },
  {
   "cell_type": "code",
   "execution_count": 43,
   "metadata": {
    "id": "qeI3D0FX8-XK",
    "outputId": "6ea2037d-e8f9-4bcb-d5d0-9ec06da91985"
   },
   "outputs": [
    {
     "data": {
      "text/plain": [
       "year               0\n",
       "month              0\n",
       "day                0\n",
       "hour               0\n",
       "trip_duration      0\n",
       "VendorID           0\n",
       "passenger_count    0\n",
       "trip_distance      0\n",
       "RatecodeID         0\n",
       "PULocationID       0\n",
       "DOLocationID       0\n",
       "payment_type       0\n",
       "total_amount       0\n",
       "dtype: int64"
      ]
     },
     "execution_count": 43,
     "metadata": {},
     "output_type": "execute_result"
    }
   ],
   "source": [
    "# On check si il y a des valeurs manquante\n",
    "taxi.isnull().sum()"
   ]
  },
  {
   "cell_type": "code",
   "execution_count": 44,
   "metadata": {
    "scrolled": true
   },
   "outputs": [
    {
     "data": {
      "text/plain": [
       "<AxesSubplot:>"
      ]
     },
     "execution_count": 44,
     "metadata": {},
     "output_type": "execute_result"
    },
    {
     "data": {
      "image/png": "[encoded data removed]",
      "text/plain": [
       "<Figure size 432x288 with 1 Axes>"
      ]
     },
     "metadata": {
      "needs_background": "light"
     },
     "output_type": "display_data"
    }
   ],
   "source": [
    "#On vérifie qu'il n'y ait plus de valeurs manquantes \n",
    "sns.heatmap(taxi.isnull(), yticklabels=False, cbar=False, cmap='viridis')"
   ]
  },
  {
   "cell_type": "code",
   "execution_count": 45,
   "metadata": {},
   "outputs": [],
   "source": [
    "#On standardise les données\n",
    "\n",
    "from sklearn.model_selection import train_test_split\n",
    "from sklearn.preprocessing import StandardScaler\n",
    "\n",
    "# Séparation des features et de la target\n",
    "X = taxi.drop('total_amount', axis=1) # Axis 1: colonne\n",
    "y = taxi['total_amount']\n",
    "\n",
    "# Normalisation des données\n",
    "scaler = StandardScaler().fit(X)\n",
    "X_scaled = scaler.transform(X)"
   ]
  },
  {
   "cell_type": "code",
   "execution_count": 46,
   "metadata": {},
   "outputs": [],
   "source": [
    "#On split les données\n",
    "X_train, X_test, y_train, y_test = train_test_split(X_scaled, y, test_size=0.2, random_state=42)"
   ]
  },
  {
   "cell_type": "code",
   "execution_count": 47,
   "metadata": {},
   "outputs": [],
   "source": [
    "from sklearn.linear_model import LinearRegression\n",
    "import numpy as np"
   ]
  },
  {
   "cell_type": "code",
   "execution_count": 48,
   "metadata": {},
   "outputs": [
    {
     "data": {
      "text/plain": [
       "LinearRegression()"
      ]
     },
     "execution_count": 48,
     "metadata": {},
     "output_type": "execute_result"
    }
   ],
   "source": [
    "#Entraînez un modèle de régression linéaire\n",
    "reg = LinearRegression()\n",
    "reg.fit(X_train, y_train)"
   ]
  },
  {
   "cell_type": "code",
   "execution_count": 49,
   "metadata": {},
   "outputs": [
    {
     "name": "stdout",
     "output_type": "stream",
     "text": [
      "coefficient de détermination (R²) : 0.9067054342890402\n",
      "erreur quadratique moyenne : 45.511208177712\n"
     ]
    }
   ],
   "source": [
    "#Voir le coeff de détermination et l'erreur quadratique moyenne\n",
    "from sklearn.metrics import r2_score\n",
    "from sklearn.metrics import mean_squared_error, mean_absolute_error\n",
    "predicted_values= reg.predict(X_test)\n",
    "print('coefficient de détermination (R²) :', r2_score(y_test,predicted_values))\n",
    "print('erreur quadratique moyenne :', mean_squared_error(y_test,predicted_values))"
   ]
  },
  {
   "cell_type": "code",
   "execution_count": 50,
   "metadata": {},
   "outputs": [],
   "source": [
    "#Mise en place du réseau de neurones\n",
    "from tensorflow.keras.models import Sequential\n",
    "from tensorflow.keras.layers import Dense\n",
    "model = Sequential()\n",
    "model.add(Dense(64, input_dim=X_train.shape[1], activation='relu'))\n",
    "model.add(Dense(32, activation='relu'))\n",
    "model.add(Dense(16, activation='relu'))\n",
    "model.add(Dense(1, activation='linear')) "
   ]
  },
  {
   "cell_type": "code",
   "execution_count": 51,
   "metadata": {},
   "outputs": [],
   "source": [
    "#compilation du modèle de neurones\n",
    "model.compile(loss='mean_squared_error', optimizer='Adam', metrics=['mean_squared_error'])"
   ]
  },
  {
   "cell_type": "code",
   "execution_count": 52,
   "metadata": {},
   "outputs": [
    {
     "name": "stdout",
     "output_type": "stream",
     "text": [
      "Epoch 1/8\n",
      "199217/199217 [==============================] - 206s 1ms/step - loss: 30.2812 - mean_squared_error: 30.2812 - val_loss: 19.1243 - val_mean_squared_error: 19.1243\n",
      "Epoch 2/8\n",
      "199217/199217 [==============================] - 202s 1ms/step - loss: 19.8702 - mean_squared_error: 19.8702 - val_loss: 16.6391 - val_mean_squared_error: 16.6391\n",
      "Epoch 3/8\n",
      "199217/199217 [==============================] - 202s 1ms/step - loss: 19.1343 - mean_squared_error: 19.1343 - val_loss: 18.3065 - val_mean_squared_error: 18.3065\n",
      "Epoch 4/8\n",
      "199217/199217 [==============================] - 200s 1ms/step - loss: 20.4967 - mean_squared_error: 20.4967 - val_loss: 16.2188 - val_mean_squared_error: 16.2188\n",
      "Epoch 5/8\n",
      "199217/199217 [==============================] - 201s 1ms/step - loss: 18.1937 - mean_squared_error: 18.1937 - val_loss: 15.9338 - val_mean_squared_error: 15.9338\n",
      "Epoch 6/8\n",
      "199217/199217 [==============================] - 204s 1ms/step - loss: 17.0758 - mean_squared_error: 17.0758 - val_loss: 15.3279 - val_mean_squared_error: 15.3279\n",
      "Epoch 7/8\n",
      "199217/199217 [==============================] - 200s 1ms/step - loss: 16.9165 - mean_squared_error: 16.9165 - val_loss: 15.5675 - val_mean_squared_error: 15.5675\n",
      "Epoch 8/8\n",
      "199217/199217 [==============================] - 198s 996us/step - loss: 16.4446 - mean_squared_error: 16.4446 - val_loss: 15.3883 - val_mean_squared_error: 15.3883\n"
     ]
    }
   ],
   "source": [
    "#entrainement du modèle de neurones\n",
    "history = model.fit(X_train, y_train, epochs=8, batch_size=10, validation_split=0.2)"
   ]
  },
  {
   "cell_type": "code",
   "execution_count": 54,
   "metadata": {},
   "outputs": [
    {
     "name": "stdout",
     "output_type": "stream",
     "text": [
      "19455/19455 [==============================] - 12s 612us/step\n",
      "erreur quadratique moyenne : 15.59256911227016\n",
      "coefficient de détermination (R²) : 0.9680364019788915\n"
     ]
    }
   ],
   "source": [
    "#Voir le coeff de détermination et l'erreur quadratique moyenne\n",
    "Yp= model.predict(X_test)\n",
    "print('erreur quadratique moyenne :', mean_squared_error(y_test,Yp))\n",
    "print('coefficient de détermination (R²) :', r2_score(y_test,Yp))"
   ]
  },
  {
   "cell_type": "code",
   "execution_count": null,
   "metadata": {},
   "outputs": [],
   "source": [
    "!pip install xgboost"
   ]
  },
  {
   "cell_type": "code",
   "execution_count": 61,
   "metadata": {},
   "outputs": [],
   "source": [
    "#Mise en place modèle XGBoost\n",
    "import xgboost as xgb\n",
    "xgmodel = xgb.XGBRegressor(objective='reg:squarederror', learning_rate = 0.25, max_depth=9, n_estimators=100)"
   ]
  },
  {
   "cell_type": "code",
   "execution_count": 62,
   "metadata": {},
   "outputs": [],
   "source": [
    "#On split les données pour XGBoost\n",
    "X_train_xg, Xtest_xg, y_train_xg, y_test_xg = train_test_split(X, y, test_size=0.2, random_state=42) "
   ]
  },
  {
   "cell_type": "code",
   "execution_count": 63,
   "metadata": {},
   "outputs": [
    {
     "data": {
      "text/plain": [
       "XGBRegressor(base_score=None, booster=None, callbacks=None,\n",
       "             colsample_bylevel=None, colsample_bynode=None,\n",
       "             colsample_bytree=None, early_stopping_rounds=None,\n",
       "             enable_categorical=False, eval_metric=None, feature_types=None,\n",
       "             gamma=None, gpu_id=None, grow_policy=None, importance_type=None,\n",
       "             interaction_constraints=None, learning_rate=0.25, max_bin=None,\n",
       "             max_cat_threshold=None, max_cat_to_onehot=None,\n",
       "             max_delta_step=None, max_depth=9, max_leaves=None,\n",
       "             min_child_weight=None, missing=nan, monotone_constraints=None,\n",
       "             n_estimators=100, n_jobs=None, num_parallel_tree=None,\n",
       "             predictor=None, random_state=None, ...)"
      ]
     },
     "execution_count": 63,
     "metadata": {},
     "output_type": "execute_result"
    }
   ],
   "source": [
    "#entrainement du modèle XGBoost\n",
    "xgmodel.fit(X_train_xg, y_train_xg)"
   ]
  },
  {
   "cell_type": "code",
   "execution_count": 67,
   "metadata": {},
   "outputs": [],
   "source": [
    "y_pred_xg = xgmodel.predict(Xtest_xg)"
   ]
  },
  {
   "cell_type": "code",
   "execution_count": 68,
   "metadata": {},
   "outputs": [
    {
     "name": "stdout",
     "output_type": "stream",
     "text": [
      "MSE : 3.4780022248504054\n",
      "R2 : 0.9752030827035931\n"
     ]
    }
   ],
   "source": [
    "#Voir le coeff de détermination et l'erreur quadratique moyenne\n",
    "mse = mean_squared_error(y_test_xg, y_pred_xg, squared=False)\n",
    "r2 = r2_score(y_test_xg, y_pred_xg)\n",
    "\n",
    "print(f\"MSE : {mse}\")\n",
    "print(f\"R2 : {r2}\")"
   ]
  },
  {
   "cell_type": "code",
   "execution_count": null,
   "metadata": {},
   "outputs": [],
   "source": []
  }
 ],
 "metadata": {
  "colab": {
   "provenance": []
  },
  "kernelspec": {
   "display_name": "Python 3",
   "language": "python",
   "name": "python3"
  },
  "language_info": {
   "codemirror_mode": {
    "name": "ipython",
    "version": 3
   },
   "file_extension": ".py",
   "mimetype": "text/x-python",
   "name": "python",
   "nbconvert_exporter": "python",
   "pygments_lexer": "ipython3",
   "version": "3.8.8"
  }
 },
 "nbformat": 4,
 "nbformat_minor": 1
}
